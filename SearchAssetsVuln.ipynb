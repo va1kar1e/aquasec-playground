{
 "cells": [
  {
   "cell_type": "markdown",
   "metadata": {},
   "source": [
    "# Search Asset Vulnerability"
   ]
  },
  {
   "cell_type": "code",
   "execution_count": null,
   "metadata": {},
   "outputs": [],
   "source": [
    "from dotenv import load_dotenv\n",
    "load_dotenv()\n",
    "\n",
    "import os, sys\n",
    "import requests\n",
    "import pandas as pd\n",
    "from IPython.display import display\n",
    "\n",
    "from datetime import datetime\n",
    "nowTime = datetime.datetime.now().strftime(\"(%y%m%d-%H%M%S) \")\n",
    "\n",
    "import urllib3\n",
    "urllib3.disable_warnings(urllib3.exceptions.InsecureRequestWarning)"
   ]
  },
  {
   "cell_type": "code",
   "execution_count": null,
   "metadata": {},
   "outputs": [],
   "source": [
    "# Aquasec URL\n",
    "base_url_nonprod = os.getenv(\"AQUASEC_NONPROD_URL\")\n",
    "base_url_prod = os.getenv(\"AQUASEC_PROD_URL\")\n",
    "## Select URL\n",
    "BASE_URL = base_url_nonprod"
   ]
  },
  {
   "cell_type": "code",
   "execution_count": null,
   "metadata": {},
   "outputs": [],
   "source": [
    "from aquasec_authen import Authentication\n",
    "# Credentials\n",
    "username = os.getenv(\"AQUASEC_USER\")\n",
    "password = os.getenv(\"AQUASEC_PASSWORD\")\n",
    "\n",
    "# HEADER = Authentication(BASE_URL=BASE_URL).generateCredentialHeader(username=username, password=password)\n",
    "HEADER = Authentication(BASE_URL=BASE_URL).generateTokenHeader(username=username, password=password)\n",
    "\n",
    "HEADER"
   ]
  },
  {
   "cell_type": "markdown",
   "metadata": {},
   "source": [
    "## Search Vulnerabilty of Asset by Asset ID"
   ]
  },
  {
   "cell_type": "code",
   "execution_count": null,
   "metadata": {},
   "outputs": [],
   "source": [
    "def extractAssetVuln(assetID=\"\", asset={}):\n",
    "    return {\n",
    "        \"assetID\": str(assetID),\n",
    "        \"name\": asset[\"name\"],\n",
    "        \"type\": asset[\"resource\"][\"type\"],\n",
    "        \"resource\": asset[\"resource\"][\"name\"],\n",
    "        \"version\": asset[\"resource\"][\"version\"],\n",
    "        \"fix_version\": asset[\"fix_version\"],\n",
    "        \"severity\": asset[\"aqua_severity\"],\n",
    "        \"status\": \"Need to update packages to a new version\",\n",
    "        \"solution\": asset[\"solution\"],\n",
    "        \"description\": asset[\"description\"]\n",
    "    }"
   ]
  },
  {
   "cell_type": "markdown",
   "metadata": {},
   "source": [
    "Support Only first **200** vulnerabilities"
   ]
  },
  {
   "cell_type": "code",
   "execution_count": null,
   "metadata": {},
   "outputs": [],
   "source": [
    "def searchAssetVulnbyID(assetID=\"\"):\n",
    "    try:\n",
    "        print(\"\\n[Request] Search Asset Vulnability by ID\")\n",
    "        url = BASE_URL + '/api/v1/hosts/' + \\\n",
    "            str(assetID) + '/vulnerabilities?include_vpatch_info=true&show_negligible=true&page=1&pagesize=10000&skip_count=true&hide_base_image=false&node_id=' + str(assetID)\n",
    "        print(\"URL      : \" + url)\n",
    "        print(\"Asset ID : \" + str(assetID))\n",
    "\n",
    "        r = requests.get(url, headers=HEADER)\n",
    "        if r.status_code == 200:\n",
    "            r = r.json()\n",
    "            print(\"\\nGetting Successful\")\n",
    "            if r[\"result\"] and r[\"count\"] == len(r[\"result\"]):\n",
    "                print(\"Found Results \" + str(len(r[\"result\"])) + \" of \" + str(r[\"count\"]))\n",
    "                return [extractAssetVuln(assetID=assetID, asset=res) for res in r[\"result\"]]\n",
    "            else:\n",
    "                print(\"[Error] Can't Search Asset Vulnability by ID\")\n",
    "                print(\"        Found Vulerabilities \" + str(r[\"count\"])  + \", Get :\" + str(len(r[\"result\"])) + \" vulerabilities\")\n",
    "                sys.exit()\n",
    "        else:\n",
    "            print(\"\\n[Error] \" + str(r.status_code))\n",
    "            print(\"        \" + str(r.text))\n",
    "            sys.exit()\n",
    "    except:\n",
    "        print(\"\\n[Error] Function searchAssetVulnbyID\")\n",
    "        sys.exit()"
   ]
  },
  {
   "cell_type": "code",
   "execution_count": null,
   "metadata": {},
   "outputs": [],
   "source": [
    "assetID = \"<Asset ID | GUID>\""
   ]
  },
  {
   "cell_type": "code",
   "execution_count": null,
   "metadata": {},
   "outputs": [],
   "source": [
    "assetVulnbyID = searchAssetVulnbyID(assetID=assetID)"
   ]
  },
  {
   "cell_type": "code",
   "execution_count": null,
   "metadata": {},
   "outputs": [],
   "source": [
    "df = pd.DataFrame(assetVulnbyID)\n",
    "len(df.index)"
   ]
  },
  {
   "cell_type": "code",
   "execution_count": null,
   "metadata": {},
   "outputs": [],
   "source": [
    "data_severity = df.groupby('severity')\n",
    "\n",
    "# severities = [\"critical\", \"high\", \"medium\", \"low\", \"information\"]\n",
    "for severity in data_severity.groups:\n",
    "    print(severity[0].upper() + severity[1:])\n",
    "    assets = list(data_severity.groups[severity])\n",
    "    print(len(assets), assets)\n",
    "    display(df[df[\"severity\"] == severity])\n",
    "    filepath = \"outputs/\" + nowTime + assetID + \"_\" + severity\n",
    "    df[df[\"severity\"] == severity].to_csv(filepath + '.csv', index=False, encoding='utf-8')"
   ]
  },
  {
   "cell_type": "code",
   "execution_count": null,
   "metadata": {},
   "outputs": [],
   "source": []
  }
 ],
 "metadata": {
  "kernelspec": {
   "display_name": "Python 3",
   "language": "python",
   "name": "python3"
  },
  "language_info": {
   "codemirror_mode": {
    "name": "ipython",
    "version": 3
   },
   "file_extension": ".py",
   "mimetype": "text/x-python",
   "name": "python",
   "nbconvert_exporter": "python",
   "pygments_lexer": "ipython3",
   "version": "3.8.3"
  }
 },
 "nbformat": 4,
 "nbformat_minor": 4
}
