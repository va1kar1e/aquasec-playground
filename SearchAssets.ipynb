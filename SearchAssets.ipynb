{
 "cells": [
  {
   "cell_type": "markdown",
   "metadata": {},
   "source": [
    "# Search Assets"
   ]
  },
  {
   "cell_type": "code",
   "execution_count": null,
   "metadata": {},
   "outputs": [],
   "source": [
    "from dotenv import load_dotenv\n",
    "import os, sys\n",
    "import requests, urllib3\n",
    "urllib3.disable_warnings(urllib3.exceptions.InsecureRequestWarning)\n",
    "load_dotenv()"
   ]
  },
  {
   "cell_type": "code",
   "execution_count": null,
   "metadata": {},
   "outputs": [],
   "source": [
    "# Aquasec URL\n",
    "base_url_nonprod = os.getenv(\"AQUASEC_NONPROD_URL\")\n",
    "base_url_prod = os.getenv(\"AQUASEC_PROD_URL\")\n",
    "## Select URL\n",
    "BASE_URL = base_url_nonprod"
   ]
  },
  {
   "cell_type": "code",
   "execution_count": null,
   "metadata": {},
   "outputs": [],
   "source": [
    "from aquasec_authen import Authentication\n",
    "# Credentials\n",
    "username = os.getenv(\"AQUASEC_USER\")\n",
    "password = os.getenv(\"AQUASEC_PASSWORD\")\n",
    "\n",
    "# HEADER = Authentication(BASE_URL=BASE_URL).generateCredentialHeader(username=username, password=password)\n",
    "HEADER = Authentication(BASE_URL=BASE_URL).generateTokenHeader(username=username, password=password)\n",
    "\n",
    "HEADER"
   ]
  },
  {
   "cell_type": "markdown",
   "metadata": {},
   "source": [
    "## 1. Search Assets by FreeText"
   ]
  },
  {
   "cell_type": "code",
   "execution_count": null,
   "metadata": {},
   "outputs": [],
   "source": [
    "def extractAsset(asset={}):\n",
    "    return {\n",
    "        \"id\": asset[\"id\"],\n",
    "        \"node_id\": asset[\"node_id\"],\n",
    "        \"name\": asset[\"name\"],\n",
    "        \"cluster_id\": asset[\"cluster_id\"],\n",
    "        \"security_issues\": asset[\"security_issues\"]\n",
    "    }"
   ]
  },
  {
   "cell_type": "markdown",
   "metadata": {},
   "source": [
    "Maximum page_size is **50**"
   ]
  },
  {
   "cell_type": "code",
   "execution_count": null,
   "metadata": {},
   "outputs": [],
   "source": [
    "def searchAssetsbyFreeText(text=\"\", page=0):\n",
    "    print(\"\\n[Request] Search Assets by FreeText\")\n",
    "    url = BASE_URL + '/api/v2/infrastructure'\n",
    "    print(\"URL  : \" + url)\n",
    "\n",
    "    # max page_size is 50\n",
    "    param = {\n",
    "        \"search\": str(text),\n",
    "        \"page\": str(page),\n",
    "        \"page_size\": \"50\",\n",
    "        \"type\": \"node\",\n",
    "        \"order_by\": \"name\",\n",
    "        \"enforced\": \"true\"\n",
    "    }\n",
    "\n",
    "    r = requests.get(url, params=param, headers=HEADER)\n",
    "    if r.status_code == 200:\n",
    "        r = r.json()\n",
    "        if r[\"result\"] and r[\"count\"] == len(r[\"result\"]):\n",
    "            print(\"\\nGetting Successful\")\n",
    "            return [extractAsset(asset=res) for res in r[\"result\"]]\n",
    "        else:\n",
    "            print(\"[Error] Can't Search Assets by FreeText\")\n",
    "            print(\"        Found Results \" + str(len(r[\"result\"])) + \" of \" + str(r[\"count\"]))\n",
    "            sys.exit()\n",
    "    else:\n",
    "        print(\"[Error] \" + str(r.status_code))\n",
    "        print(\"        \" + str(r.text))\n",
    "        sys.exit()"
   ]
  },
  {
   "cell_type": "code",
   "execution_count": null,
   "metadata": {},
   "outputs": [],
   "source": [
    "text = \"<Free Text>\""
   ]
  },
  {
   "cell_type": "code",
   "execution_count": null,
   "metadata": {},
   "outputs": [],
   "source": [
    "assetsbyFreeText = searchAssetsbyFreeText(text=text, page=0)"
   ]
  },
  {
   "cell_type": "code",
   "execution_count": null,
   "metadata": {
    "scrolled": false
   },
   "outputs": [],
   "source": [
    "[[asset[\"node_id\"],asset[\"name\"]] for asset in assetsbyFreeText]"
   ]
  },
  {
   "cell_type": "markdown",
   "metadata": {},
   "source": [
    "## 2. Search Asset Detail by ID"
   ]
  },
  {
   "cell_type": "code",
   "execution_count": null,
   "metadata": {},
   "outputs": [],
   "source": [
    "def searchAssetDetailbyID(assetID=\"\"):\n",
    "    print(\"\\n[Request] Search Asset Detail by ID\")\n",
    "    url = BASE_URL + '/api/v2/infrastructure/' + str(assetID)\n",
    "    print(\"URL      : \" + url)\n",
    "    print(\"Asset ID : \" + str(assetID))\n",
    "\n",
    "    r = requests.get(url, headers=HEADER)\n",
    "    if r.status_code == 200:\n",
    "        r = r.json()\n",
    "        print(\"\\nGetting Successful\")\n",
    "        return r\n",
    "    else:\n",
    "        print(\"\\n[Error] \" + str(r.status_code))\n",
    "        print(\"        \" + str(r.text))\n",
    "        sys.exit()"
   ]
  },
  {
   "cell_type": "code",
   "execution_count": null,
   "metadata": {},
   "outputs": [],
   "source": [
    "assetID = \"<Asset ID | GUID>\""
   ]
  },
  {
   "cell_type": "code",
   "execution_count": null,
   "metadata": {},
   "outputs": [],
   "source": [
    "assetDetailbyID = searchAssetDetailbyID(assetID=assetID)"
   ]
  },
  {
   "cell_type": "code",
   "execution_count": null,
   "metadata": {},
   "outputs": [],
   "source": [
    "assetDetailbyID"
   ]
  },
  {
   "cell_type": "markdown",
   "metadata": {},
   "source": [
    "## 3. Search Asset Detail by Name"
   ]
  },
  {
   "cell_type": "markdown",
   "metadata": {},
   "source": [
    "### assetType\n",
    "    0 : node\n",
    "    1 : cluster"
   ]
  },
  {
   "cell_type": "code",
   "execution_count": null,
   "metadata": {},
   "outputs": [],
   "source": [
    "def searchAssetDetailbyName(assetType=0, assetName=\"\"):\n",
    "    print(\"\\n[Request] Search Asset Detail by Name\")\n",
    "\n",
    "    assetTypes = [\"node\", \"cluster\"]\n",
    "    url = BASE_URL + '/api/v2/infrastructure/' + str(assetTypes[assetType]) + '/' + str(assetName)\n",
    "\n",
    "    print(\"URL        : \" + url)\n",
    "    print(\"Asset Name : \" + str(assetName))\n",
    "\n",
    "    r = requests.get(url, headers=HEADER)\n",
    "    if r.status_code == 200:\n",
    "        r = r.json()\n",
    "        print(\"\\nGetting Successful\")\n",
    "        return r\n",
    "    else:\n",
    "        print(\"\\n[Error] \" + str(r.status_code))\n",
    "        print(\"        \" + str(r.text))\n",
    "        sys.exit()"
   ]
  },
  {
   "cell_type": "code",
   "execution_count": null,
   "metadata": {},
   "outputs": [],
   "source": [
    "assetName=\"aqua-agent-helm.ip-XXX-XXX-XXX-XXX\""
   ]
  },
  {
   "cell_type": "code",
   "execution_count": null,
   "metadata": {},
   "outputs": [],
   "source": [
    "assetDetailbyName = searchAssetDetailbyName(assetName=assetName)\n",
    "assetDetailbyName"
   ]
  },
  {
   "cell_type": "code",
   "execution_count": null,
   "metadata": {},
   "outputs": [],
   "source": []
  }
 ],
 "metadata": {
  "kernelspec": {
   "display_name": "Python 3",
   "language": "python",
   "name": "python3"
  },
  "language_info": {
   "codemirror_mode": {
    "name": "ipython",
    "version": 3
   },
   "file_extension": ".py",
   "mimetype": "text/x-python",
   "name": "python",
   "nbconvert_exporter": "python",
   "pygments_lexer": "ipython3",
   "version": "3.8.3"
  }
 },
 "nbformat": 4,
 "nbformat_minor": 4
}
